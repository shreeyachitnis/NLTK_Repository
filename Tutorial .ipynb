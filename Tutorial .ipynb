{
 "cells": [
  {
   "cell_type": "markdown",
   "id": "7816ca40",
   "metadata": {},
   "source": [
    "Name: Shreeya Chitnis \n",
    "Library: NLTK\n",
    "URL: https://github.com/shreeyachitnis/NLTK\n",
    "Description: NLTK, short for Natural Language Toolkit, is a comprehensive Python library designed to facilitate the exploration, processing, and analysis of human language data"
   ]
  },
  {
   "cell_type": "code",
   "execution_count": 1,
   "id": "7b49ebd4",
   "metadata": {},
   "outputs": [],
   "source": [
    "import nltk\n",
    "from nltk.tokenize import word_tokenize, sent_tokenize\n",
    "from nltk.tag import pos_tag\n",
    "from nltk.stem import PorterStemmer"
   ]
  },
  {
   "cell_type": "markdown",
   "id": "4cb750d9",
   "metadata": {},
   "source": [
    "Tokenization\n",
    "Tokenization is the process of breaking text into individual words or sentences.\n",
    "NLTK provides tokenizers for various languages and tokenization tasks.\n",
    "Let's tokenize a sample text into words and sentences using NLTK.\n"
   ]
  },
  {
   "cell_type": "code",
   "execution_count": 2,
   "id": "9a6c9032",
   "metadata": {},
   "outputs": [
    {
     "name": "stdout",
     "output_type": "stream",
     "text": [
      "Words: ['NLTK', 'is', 'a', 'fantastic', 'library', 'for', 'natural', 'language', 'processing', '.', 'It', 'provides', 'various', 'tools', 'for', 'text', 'analysis', '.']\n",
      "Sentences: ['NLTK is a fantastic library for natural language processing.', 'It provides various tools for text analysis.']\n"
     ]
    }
   ],
   "source": [
    "# Sample the text for tokenization\n",
    "text = \"NLTK is a fantastic library for natural language processing. It provides various tools for text analysis.\"\n",
    "\n",
    "# Tokenize into words\n",
    "words = word_tokenize(text)\n",
    "print(\"Words:\", words)\n",
    "\n",
    "# Tokenize into sentences\n",
    "sentences = sent_tokenize(text)\n",
    "print(\"Sentences:\", sentences)\n"
   ]
  },
  {
   "cell_type": "markdown",
   "id": "78bace2f",
   "metadata": {},
   "source": [
    "Part-of-Speech Tagging:\n",
    "Part-of-speech tagging involves assigning grammatical categories (e.g., noun, verb, adjective) to words in a sentence.\n",
    "NLTK provides pre-trained part-of-speech taggers for multiple languages.\n",
    "Let's perform part-of-speech tagging on a sample sentence."
   ]
  },
  {
   "cell_type": "code",
   "execution_count": 4,
   "id": "8f72b6e0",
   "metadata": {},
   "outputs": [],
   "source": [
    "# Parts of Speech Abbreviations and Full Forms: CC - Coordinating Conjunction, CD - Cardinal Digit, DT - Determiner, EX - Existential There, FW - Foreign Word, IN - Preposition or Subordinating Conjunction\n",
    "# JJ - Adjective, JJR - Adjective, Comparative, JJS - Adjective, Superlative, LS - List Item Marker, MD - Modal, NN - Noun, Singular or Mass, NNS - Noun, Plural, NNP - Proper Noun, Singular, NNPS - Proper Noun, Plural, PDT - Predeterminer, POS - Possessive Ending\n",
    "# PRP - Personal Pronoun, PRP$ - Possessive Pronoun, RB - Adverb, RBR - Adverb, Comparative, RBS - Adverb, Superlative, RP - Particle, SYM - Symbol, TO - to, UH - Interjection, VB - Verb, Base Form, VBD - Verb, Past Tense, VBG - Verb, Gerund or Present Participle\n"
   ]
  },
  {
   "cell_type": "code",
   "execution_count": 3,
   "id": "cd3ed69a",
   "metadata": {},
   "outputs": [
    {
     "name": "stdout",
     "output_type": "stream",
     "text": [
      "Tagged Words: [('NLTK', 'NNP'), ('is', 'VBZ'), ('a', 'DT'), ('fantastic', 'JJ'), ('library', 'NN'), ('for', 'IN'), ('natural', 'JJ'), ('language', 'NN'), ('processing', 'NN'), ('.', '.')]\n"
     ]
    }
   ],
   "source": [
    "# Sample sentence for part-of-speech tagging\n",
    "sentence = \"NLTK is a fantastic library for natural language processing.\"\n",
    "\n",
    "# Tokenize the sentence\n",
    "words = word_tokenize(sentence)\n",
    "\n",
    "# Perform part-of-speech tagging\n",
    "tagged_words = pos_tag(words)\n",
    "print(\"Tagged Words:\", tagged_words)"
   ]
  },
  {
   "cell_type": "markdown",
   "id": "4c7e98f6",
   "metadata": {},
   "source": [
    "Stemming:\n",
    "Stemming involves reducing words to their base or root form.\n",
    "NLTK provides stemmers for various languages and stemming algorithms.\n",
    "Let's stem a list of words using NLTK's Porter Stemmer."
   ]
  },
  {
   "cell_type": "code",
   "execution_count": 5,
   "id": "ddbe02d5",
   "metadata": {},
   "outputs": [
    {
     "name": "stdout",
     "output_type": "stream",
     "text": [
      "Stemmed Words: ['run', 'play', 'wrote']\n"
     ]
    }
   ],
   "source": [
    "# List of words for stemming\n",
    "words = [\"running\", \"plays\", \"wrote\"]\n",
    "\n",
    "# Instantiate the Porter Stemmer\n",
    "stemmer = PorterStemmer()\n",
    "\n",
    "# Perform stemming\n",
    "stemmed_words = [stemmer.stem(word) for word in words]\n",
    "print(\"Stemmed Words:\", stemmed_words)\n"
   ]
  },
  {
   "cell_type": "code",
   "execution_count": null,
   "id": "6a4269ef",
   "metadata": {},
   "outputs": [],
   "source": [
    "import nltk\n",
    "from nltk.stem.snowball import SnowballStemmer\n",
    "\n",
    "# French words for stemming\n",
    "words = [\"manger\", \"mange\", \"mangeait\", \"mangé\", \"manges\", \"mangions\", \"mangent\"]\n",
    "\n",
    "# Instantiate the Snowball Stemmer for French\n",
    "stemmer = SnowballStemmer(language='french')\n",
    "\n",
    "# Perform stemming\n",
    "stemmed_words = [stemmer.stem(word) for word in words]\n",
    "print(\"Stemmed French Words:\", stemmed_words)"
   ]
  }
 ],
 "metadata": {
  "kernelspec": {
   "display_name": "Python 3 (ipykernel)",
   "language": "python",
   "name": "python3"
  },
  "language_info": {
   "codemirror_mode": {
    "name": "ipython",
    "version": 3
   },
   "file_extension": ".py",
   "mimetype": "text/x-python",
   "name": "python",
   "nbconvert_exporter": "python",
   "pygments_lexer": "ipython3",
   "version": "3.11.5"
  }
 },
 "nbformat": 4,
 "nbformat_minor": 5
}
